{
 "cells": [
  {
   "cell_type": "markdown",
   "metadata": {},
   "source": [
    "Tools to search in the CAS reference dictionary (both SciFinder and PubChem)\n",
    "---\n"
   ]
  },
  {
   "cell_type": "code",
   "execution_count": 1,
   "metadata": {},
   "outputs": [],
   "source": [
    "import pandas as pd\n",
    "import pickle\n",
    "\n",
    "outdir = './out/'\n",
    "\n",
    "casdic = pd.read_pickle(outdir+'cas_ref_dic_pickle.pkl')\n",
    "syndic = pd.read_pickle(outdir+'syn_dic_pickle.pkl')\n",
    "pubchem = pd.read_pickle(outdir+'pubchem_pickle.pkl')\n",
    "pc_cas = list(pubchem.CAS_RN)\n",
    "pc_syn = list(pubchem.synonyms)\n",
    "pchem_dic = {}\n",
    "\n",
    "for i,cas in enumerate(pc_cas):\n",
    "    pchem_dic[cas] = []\n",
    "    for syn in pc_syn[i]:\n",
    "        s = syn.strip().lower()\n",
    "        pchem_dic[cas].append(s)\n",
    "        \n"
   ]
  },
  {
   "cell_type": "code",
   "execution_count": 2,
   "metadata": {},
   "outputs": [],
   "source": [
    "# This takes a while; we have to iterate over both CAS and synonyms\n",
    "# slst = []\n",
    "# def clean_syn_lst(a):  # just lower case\n",
    "#     for n in a:\n",
    "#         slst.append(n.lower())\n",
    "#     return slst\n",
    "\n",
    "# _ = pubchem.synonyms.map(lambda x: clean_syn_lst(x))\n",
    "\n",
    "# slst = list(set(slst)) # make sure they are one of a kind\n",
    "# pchem_syn = {}\n",
    "# for syn in slst:\n",
    "#     pchem_syn[syn] = []\n",
    "#     for cas in pchem_dic:\n",
    "#         if syn in pchem_dic[cas]:\n",
    "#             pchem_syn[syn].append(cas)\n",
    "\n",
    "\n",
    "# with open(outdir+'pchem_syn_pickle.pkl','wb') as f:\n",
    "#     pickle.dump(pchem_syn,f)\n"
   ]
  },
  {
   "cell_type": "code",
   "execution_count": 2,
   "metadata": {},
   "outputs": [
    {
     "name": "stdout",
     "output_type": "stream",
     "text": [
      "   7631-86-9 :  silica\n",
      "  99439-28-8 :  quartz-beta (sio2) (9ci)\n",
      "  14808-60-7 :  quartz (sio2)\n",
      " 308075-07-2 :  sand\n",
      "  60676-86-0 :  silica, vitreous\n"
     ]
    }
   ],
   "source": [
    "with open(outdir+'pchem_syn_pickle.pkl','rb') as f:\n",
    "    pchem_syn = pickle.load(f)\n",
    "    \n",
    "def searchSyn(s='quartz'):\n",
    "    outlist = []\n",
    "    for syn in syndic.keys():\n",
    "        if s in syn:\n",
    "            for cas in syndic[syn]:\n",
    "                outlist.append(cas)\n",
    "    out = set(outlist)\n",
    "    for cas in out:\n",
    "        print('{:>12} :  {}'.format(cas,casdic[cas][0]))\n",
    "    return out\n",
    "\n",
    "def psearchSyn(s='quartz'):\n",
    "    outlist = []\n",
    "    for syn in pchem_syn.keys():\n",
    "        if s in syn:\n",
    "            for cas in pchem_syn[syn]:\n",
    "                outlist.append(cas)\n",
    "    out = set(outlist)\n",
    "    for cas in out:\n",
    "        print('{:>12} :  {}'.format(cas,pchem_dic[cas][0]))\n",
    "    return out\n",
    "\n",
    "        \n",
    "out = searchSyn()\n"
   ]
  },
  {
   "cell_type": "markdown",
   "metadata": {},
   "source": [
    "Search SciFinder dataset by synonym\n",
    "---"
   ]
  },
  {
   "cell_type": "code",
   "execution_count": 9,
   "metadata": {},
   "outputs": [
    {
     "name": "stdout",
     "output_type": "stream",
     "text": [
      "     67-56-1 :  methanol\n",
      "    108-11-2 :  2-pentanol, 4-methyl-\n",
      " 224635-63-6 :  acetic acid, reaction products with acetophenone, cyclohexylamine, formaldehyde and methanol\n",
      "     98-00-0 :  2-furanmethanol\n",
      "    100-79-8 :  1,3-dioxolane-4-methanol, 2,2-dimethyl-\n",
      "   1067-12-5 :  methanol, 1,1',1''-phosphinylidynetris-\n"
     ]
    },
    {
     "data": {
      "text/plain": [
       "{'100-79-8', '1067-12-5', '108-11-2', '224635-63-6', '67-56-1', '98-00-0'}"
      ]
     },
     "execution_count": 9,
     "metadata": {},
     "output_type": "execute_result"
    }
   ],
   "source": [
    "searchSyn('methanol')"
   ]
  },
  {
   "cell_type": "markdown",
   "metadata": {},
   "source": [
    "Search SciFinder by CAS\n",
    "---"
   ]
  },
  {
   "cell_type": "code",
   "execution_count": 7,
   "metadata": {},
   "outputs": [
    {
     "data": {
      "text/plain": [
       "['1-propanaminium, n-(3-aminopropyl)-2-hydroxy-n,n-dimethyl-3-sulfo-, n-coco acyl derivs., inner salts']"
      ]
     },
     "execution_count": 7,
     "metadata": {},
     "output_type": "execute_result"
    }
   ],
   "source": [
    "casdic['68139']"
   ]
  },
  {
   "cell_type": "markdown",
   "metadata": {},
   "source": [
    "Search PubChem dataset by synonym\n",
    "---"
   ]
  },
  {
   "cell_type": "code",
   "execution_count": 11,
   "metadata": {},
   "outputs": [
    {
     "name": "stdout",
     "output_type": "stream",
     "text": [
      "   7727-54-0 :  ammonium persulfate\n"
     ]
    }
   ],
   "source": [
    "out = psearchSyn('ammonium persulfate')"
   ]
  },
  {
   "cell_type": "markdown",
   "metadata": {},
   "source": [
    "Search PubChem by CAS\n",
    "---"
   ]
  },
  {
   "cell_type": "code",
   "execution_count": 10,
   "metadata": {},
   "outputs": [
    {
     "data": {
      "text/plain": [
       "['sodium bromate',\n",
       " '7789-38-0',\n",
       " 'bromic acid, sodium salt',\n",
       " 'dyetone',\n",
       " 'bromate de sodium',\n",
       " 'sodium bromate(dot)',\n",
       " 'neutralizer k-126',\n",
       " 'neutralizer k-140',\n",
       " 'neutralizer k-938',\n",
       " 'sodium bromate (nabro3)',\n",
       " 'bromate de sodium [french]',\n",
       " 'unii-u54jk6453o',\n",
       " 'hsdb 2185',\n",
       " 'einecs 232-160-4',\n",
       " 'nsc 77383',\n",
       " 'un1494',\n",
       " 'chebi:75229',\n",
       " 'bromic acid, sodium salt (1:1)',\n",
       " 'u54jk6453o',\n",
       " 'sodium bromate, >=99%',\n",
       " 'sodiumbromate',\n",
       " 'sodium bromate, 99+%, extra pure',\n",
       " 'ccris 9265',\n",
       " 'sodium bromate(v)',\n",
       " 'nabro3',\n",
       " 'acmc-20ajov',\n",
       " 'dsstox_cid_3837',\n",
       " 'ec 232-160-4',\n",
       " 'ac1q1v3b',\n",
       " 'dsstox_rid_77203',\n",
       " 'dsstox_gsid_23837',\n",
       " 'ksc378c2n',\n",
       " 'chembl1348453',\n",
       " 'dtxsid9023837',\n",
       " 'ctk2h8126',\n",
       " 'molport-001-757-237',\n",
       " 'xuxnakzdhhehpc-uhfffaoysa-m',\n",
       " 'sodium bromate, p.a., 99.5%',\n",
       " 'ks-00000um7',\n",
       " 'tox21_202534',\n",
       " 'br1198',\n",
       " 'akos015833691',\n",
       " 'ls-1740',\n",
       " 'rl05007',\n",
       " 'rtr-024947',\n",
       " 'sodium bromate [un1494] [oxidizer]',\n",
       " 'tra-0176253',\n",
       " 'ncgc00090778-01',\n",
       " 'ncgc00090778-02',\n",
       " 'ncgc00260083-01',\n",
       " 'sodium bromate [un1494]  [oxidizer]',\n",
       " 'k374',\n",
       " 'cas-7789-38-0',\n",
       " 'tr-024947',\n",
       " 'ft-0699768',\n",
       " 'water disinfection model (sodium bromate)',\n",
       " 'sodium bromate, 99.5% trace metals basis  100g',\n",
       " 'sodium bromate, puriss. p.a., >=99.5% (rt)',\n",
       " '38869-75-9',\n",
       " '38869-76-0']"
      ]
     },
     "execution_count": 10,
     "metadata": {},
     "output_type": "execute_result"
    }
   ],
   "source": [
    "pchem_dic['7789-38-0']"
   ]
  },
  {
   "cell_type": "code",
   "execution_count": null,
   "metadata": {},
   "outputs": [],
   "source": []
  }
 ],
 "metadata": {
  "hide_input": false,
  "kernelspec": {
   "display_name": "Python 3",
   "language": "python",
   "name": "python3"
  },
  "language_info": {
   "codemirror_mode": {
    "name": "ipython",
    "version": 3
   },
   "file_extension": ".py",
   "mimetype": "text/x-python",
   "name": "python",
   "nbconvert_exporter": "python",
   "pygments_lexer": "ipython3",
   "version": "3.6.6"
  },
  "toc": {
   "base_numbering": 1,
   "nav_menu": {},
   "number_sections": true,
   "sideBar": true,
   "skip_h1_title": false,
   "title_cell": "Table of Contents",
   "title_sidebar": "Contents",
   "toc_cell": false,
   "toc_position": {},
   "toc_section_display": true,
   "toc_window_display": false
  }
 },
 "nbformat": 4,
 "nbformat_minor": 2
}
